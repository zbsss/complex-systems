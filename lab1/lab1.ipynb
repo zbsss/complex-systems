{
 "cells": [
  {
   "cell_type": "code",
   "execution_count": 1,
   "id": "429ead79-0cef-4d72-86b8-dea290bb8366",
   "metadata": {},
   "outputs": [],
   "source": [
    "import numpy as np\n",
    "import imageio\n",
    "from collections import defaultdict\n",
    "import matplotlib.pyplot as plt"
   ]
  },
  {
   "cell_type": "code",
   "execution_count": 20,
   "id": "f1261d43-e2bb-4ead-a50e-55497450c3a3",
   "metadata": {},
   "outputs": [],
   "source": [
    "class Simulation:\n",
    "    def __init__(self, L=100, max_height=4, max_iters=50000, iters_per_frame=100, init_random=True):\n",
    "        self.L = L\n",
    "        self.max_height = max_height\n",
    "        self.max_iters = max_iters\n",
    "        self.iters_per_frame = iters_per_frame\n",
    "\n",
    "        if init_random:\n",
    "            self.grid = np.random.choice((range(self.max_height)), size=(self.L, self.L))\n",
    "        else:\n",
    "            self.grid = np.zeros((self.L, self.L))\n",
    "        self.history = []\n",
    "        self.avalanches_count = defaultdict(lambda: 0)\n",
    "        \n",
    "    def add_grain_bfs(self, i, j, visited):\n",
    "        if (i not in range(self.L) or\n",
    "            j not in range(self.L) or\n",
    "                (i, j) in visited):\n",
    "            return\n",
    "\n",
    "        self.grid[i, j] += 1\n",
    "        visited.add((i, j))\n",
    "\n",
    "        if self.grid[i, j] == self.max_height:\n",
    "            for di, dj in [[1, 0], [-1, 0], [0, 1], [0, -1]]:\n",
    "                self.add_grain_bfs(i + di, j + dj, visited)\n",
    "            self.grid[i, j] = 0\n",
    "            \n",
    "    def run(self):\n",
    "        for t in range(self.max_iters):\n",
    "            if t % self.iters_per_frame == 0:\n",
    "                self.history.append(self.grid.copy())\n",
    "\n",
    "            i, j = np.random.randint(low=0, high=self.L, size=2)\n",
    "\n",
    "            visited = set()\n",
    "            self.add_grain_bfs(i, j, visited)\n",
    "\n",
    "            if visited:\n",
    "                self.avalanches_count[len(visited)] += 1\n",
    "\n",
    "        return self.history, self.avalanches_count\n",
    "    \n",
    "    def save_gif(self, output_file):\n",
    "        with imageio.get_writer(output_file) as writer:\n",
    "            for image in self.history:\n",
    "                writer.append_data((image * 255).astype(np.uint8))\n",
    "    \n",
    "    def plot_avalanches(self):\n",
    "        x = np.array([int(size) for size in self.avalanches_count.keys()])\n",
    "        y = np.array([int(size) for size in self.avalanches_count.values()])\n",
    "\n",
    "        plt.scatter(np.log(x), np.log(y))\n",
    "        plt.show()"
   ]
  },
  {
   "cell_type": "code",
   "execution_count": null,
   "id": "c06c5f91-9bf9-4917-af84-a292c916ee7f",
   "metadata": {
    "tags": []
   },
   "outputs": [],
   "source": [
    "s0 = Simulation(init_random=False)\n",
    "\n",
    "s0.run()\n",
    "\n",
    "s0.save_gif(\"s0.gif\")"
   ]
  },
  {
   "cell_type": "code",
   "execution_count": 23,
   "id": "48f1fb95-d52c-495e-8859-24b821030da4",
   "metadata": {},
   "outputs": [
    {
     "data": {
      "image/png": "[encoded data removed]",
      "text/plain": [
       "<Figure size 432x288 with 1 Axes>"
      ]
     },
     "metadata": {
      "needs_background": "light"
     },
     "output_type": "display_data"
    }
   ],
   "source": [
    "s0.plot_avalanches()"
   ]
  },
  {
   "cell_type": "markdown",
   "id": "100b7e34-1f09-473d-8d1f-c332aa1bf432",
   "metadata": {
    "tags": []
   },
   "source": [
    "<img src=\"https://raw.githubusercontent.com/zbsss/complex-systems/main/lab1/s0.gif\" style=\"image-rendering: crisp-edges;\" alt=\"gif\" width=\"500\" height=\"500\" />"
   ]
  },
  {
   "cell_type": "code",
   "execution_count": null,
   "id": "0b8ce26c-33b5-4f49-bbed-076376b44fc1",
   "metadata": {
    "tags": []
   },
   "outputs": [],
   "source": [
    "s1 = Simulation()\n",
    "\n",
    "s1.run()\n",
    "\n",
    "s1.save_gif(\"s1.gif\")"
   ]
  },
  {
   "cell_type": "code",
   "execution_count": 27,
   "id": "f0085711-efd5-4ab7-9871-b05c83ff22eb",
   "metadata": {},
   "outputs": [
    {
     "data": {
      "image/png": "[encoded data removed]",
      "text/plain": [
       "<Figure size 432x288 with 1 Axes>"
      ]
     },
     "metadata": {
      "needs_background": "light"
     },
     "output_type": "display_data"
    }
   ],
   "source": [
    "s1.plot_avalanches()"
   ]
  },
  {
   "cell_type": "markdown",
   "id": "a4f5cc50-a906-49ec-8b2b-5cb3fb1ceae3",
   "metadata": {},
   "source": [
    "<img src=\"https://raw.githubusercontent.com/zbsss/complex-systems/main/lab1/s1.gif\" style=\"image-rendering: crisp-edges;\" alt=\"gif\" width=\"500\" height=\"500\" />"
   ]
  },
  {
   "cell_type": "code",
   "execution_count": null,
   "id": "df6ae858-3ff8-4df0-8d79-4f566b3f8efb",
   "metadata": {
    "tags": []
   },
   "outputs": [],
   "source": [
    "s2 = Simulation(L=500, max_iters=1000000, max_height=5, iters_per_frame=1000)\n",
    "\n",
    "s2.run()\n",
    "\n",
    "s2.save_gif(\"s2.gif\")"
   ]
  },
  {
   "cell_type": "code",
   "execution_count": 28,
   "id": "bb967b1f-973b-4f2b-a650-034cfcf2477d",
   "metadata": {},
   "outputs": [
    {
     "data": {
      "image/png": "[encoded data removed]",
      "text/plain": [
       "<Figure size 432x288 with 1 Axes>"
      ]
     },
     "metadata": {
      "needs_background": "light"
     },
     "output_type": "display_data"
    }
   ],
   "source": [
    "s2.plot_avalanches()"
   ]
  },
  {
   "cell_type": "markdown",
   "id": "3a254879-2fc7-4bb9-9b5f-7a8cf30ec940",
   "metadata": {},
   "source": [
    "<img src=\"https://raw.githubusercontent.com/zbsss/complex-systems/main/lab1/s2.gif\" style=\"image-rendering: crisp-edges;\" alt=\"gif\" width=\"500\" height=\"500\" />"
   ]
  }
 ],
 "metadata": {
  "kernelspec": {
   "display_name": "Python 3.9.12 64-bit",
   "language": "python",
   "name": "python3"
  },
  "language_info": {
   "codemirror_mode": {
    "name": "ipython",
    "version": 3
   },
   "file_extension": ".py",
   "mimetype": "text/x-python",
   "name": "python",
   "nbconvert_exporter": "python",
   "pygments_lexer": "ipython3",
   "version": "3.9.12"
  },
  "vscode": {
   "interpreter": {
    "hash": "aee8b7b246df8f9039afb4144a1f6fd8d2ca17a180786b69acc140d282b71a49"
   }
  }
 },
 "nbformat": 4,
 "nbformat_minor": 5
}
